{
 "cells": [
  {
   "cell_type": "markdown",
   "id": "eca3c6fd",
   "metadata": {},
   "source": [
    "### Importing Libraries"
   ]
  },
  {
   "cell_type": "code",
   "execution_count": 1,
   "id": "fef7de33",
   "metadata": {},
   "outputs": [],
   "source": [
    "import csv\n",
    "from utils import *\n",
    "import pandas as pd\n",
    "import numpy as np"
   ]
  },
  {
   "cell_type": "markdown",
   "id": "08e0e28f",
   "metadata": {},
   "source": [
    "### Establishing Connection with cursor"
   ]
  },
  {
   "cell_type": "code",
   "execution_count": 2,
   "id": "96b6e720",
   "metadata": {},
   "outputs": [],
   "source": [
    "conn_db = make_connection(config_file = 'config_files/db_superstore.ini')\n",
    "cursor_db = conn_db.cursor()"
   ]
  },
  {
   "cell_type": "markdown",
   "id": "3f19e335",
   "metadata": {},
   "source": [
    "### Drop all existing tables (if any)"
   ]
  },
  {
   "cell_type": "code",
   "execution_count": 3,
   "id": "2493ee85",
   "metadata": {},
   "outputs": [],
   "source": [
    "def drop(cursor, tables = ['listed', 'shopping_cart', 'product', 'website', 'distributor', 'feedback', 'category', 'orders', 'customer', 'ship_mode']): \n",
    "\n",
    "    for table in tables:\n",
    "        cursor.execute(f\"DROP TABLE IF EXISTS {table}\")"
   ]
  },
  {
   "cell_type": "code",
   "execution_count": 4,
   "id": "ae6e0c17",
   "metadata": {},
   "outputs": [],
   "source": [
    "drop(cursor_db)"
   ]
  },
  {
   "cell_type": "markdown",
   "id": "3a07cab2",
   "metadata": {},
   "source": [
    "### Creating tables"
   ]
  },
  {
   "cell_type": "markdown",
   "id": "5f815c37",
   "metadata": {},
   "source": [
    "`ship_mode`"
   ]
  },
  {
   "cell_type": "code",
   "execution_count": 5,
   "id": "c164e326",
   "metadata": {
    "scrolled": true
   },
   "outputs": [],
   "source": [
    "sql = ( \"\"\"\n",
    "        CREATE TABLE ship_mode\n",
    "        (\n",
    "            ship_mode    CHAR(20) NOT NULL,\n",
    "            shipping_fee FLOAT NOT NULL,\n",
    "            no_of_days_for_ship INT NOT NULL,\n",
    "            CONSTRAINT ship_mode_pk PRIMARY KEY (ship_mode)\n",
    "        );\n",
    "        \"\"\"\n",
    "      )\n",
    "\n",
    "make_table('ship_mode', sql, cursor_db)"
   ]
  },
  {
   "cell_type": "markdown",
   "id": "a613a2a1",
   "metadata": {},
   "source": [
    "`customer`"
   ]
  },
  {
   "cell_type": "code",
   "execution_count": 6,
   "id": "881a7224",
   "metadata": {
    "scrolled": true
   },
   "outputs": [],
   "source": [
    "sql = ( \"\"\"\n",
    "        CREATE TABLE customer\n",
    "        (\n",
    "          customer_id INT NOT NULL AUTO_INCREMENT,\n",
    "          customer_first_name CHAR(30) NOT NULL,\n",
    "          customer_last_name CHAR(30) NOT NULL,\n",
    "          street_address VARCHAR(40) NOT NULL,\n",
    "          city CHAR(30) NOT NULL,\n",
    "          state CHAR(30) NOT NULL,\n",
    "          country CHAR(30) NOT NULL,\n",
    "          postal_code INT NOT NULL,\n",
    "          segment CHAR(15) NOT NULL,\n",
    "          CONSTRAINT customer_pk PRIMARY KEY (customer_id)\n",
    "        );\n",
    "        \"\"\"\n",
    "      )\n",
    "\n",
    "make_table('customer', sql, cursor_db);\n",
    "cursor_db.execute('ALTER TABLE customer AUTO_INCREMENT = 100000;')"
   ]
  },
  {
   "cell_type": "markdown",
   "id": "3ce77cc3",
   "metadata": {},
   "source": [
    "`orders`"
   ]
  },
  {
   "cell_type": "code",
   "execution_count": 7,
   "id": "02365691",
   "metadata": {
    "scrolled": true
   },
   "outputs": [],
   "source": [
    "sql = ( \"\"\"\n",
    "        CREATE TABLE orders\n",
    "        (\n",
    "          order_id INT NOT NULL AUTO_INCREMENT,\n",
    "          order_date DATE NOT NULL,\n",
    "          discount INT DEFAULT 0,\n",
    "          order_total FLOAT DEFAULT 0,\n",
    "          ship_mode CHAR(20) NOT NULL,\n",
    "          ship_date DATE NOT NULL,\n",
    "          customer_id INT NOT NULL,\n",
    "          CONSTRAINT orders_pk PRIMARY KEY (order_id),\n",
    "          CONSTRAINT orders_fk1 FOREIGN KEY (customer_id) REFERENCES customer(customer_id),\n",
    "          CONSTRAINT orders_fk2 FOREIGN KEY (ship_mode) REFERENCES ship_mode(ship_mode)\n",
    "        );\n",
    "        \"\"\"\n",
    "      )\n",
    "\n",
    "make_table('orders', sql, cursor_db);\n",
    "cursor_db.execute('ALTER TABLE orders AUTO_INCREMENT = 10000001;')"
   ]
  },
  {
   "cell_type": "markdown",
   "id": "3739b71d",
   "metadata": {},
   "source": [
    "`category`"
   ]
  },
  {
   "cell_type": "code",
   "execution_count": 8,
   "id": "80c782fa",
   "metadata": {
    "scrolled": true
   },
   "outputs": [],
   "source": [
    "sql = ( \"\"\"\n",
    "        CREATE TABLE category\n",
    "        (\n",
    "            category_id   CHAR(3) NOT NULL,\n",
    "            category_name CHAR(20) NOT NULL,\n",
    "            CONSTRAINT category_pk PRIMARY KEY (category_id)\n",
    "        );\n",
    "        \"\"\"\n",
    "      )\n",
    "\n",
    "make_table('category', sql, cursor_db)"
   ]
  },
  {
   "cell_type": "markdown",
   "id": "e0d2c4a7",
   "metadata": {},
   "source": [
    "`feedback`"
   ]
  },
  {
   "cell_type": "code",
   "execution_count": 9,
   "id": "380b900a",
   "metadata": {},
   "outputs": [],
   "source": [
    "sql = ( \"\"\"\n",
    "        CREATE TABLE feedback\n",
    "        (\n",
    "            feedback_id INT NOT NULL AUTO_INCREMENT,\n",
    "            customer_rating INT NOT NULL,\n",
    "            customer_id INT NOT NULL,\n",
    "            CONSTRAINT feedback_pk PRIMARY KEY (feedback_id),\n",
    "            CONSTRAINT feedback_fk1 FOREIGN KEY (customer_id) REFERENCES customer(customer_id)\n",
    "        );\n",
    "        \"\"\"\n",
    "      )\n",
    "\n",
    "make_table('feedback', sql, cursor_db)\n",
    "cursor_db.execute('ALTER TABLE feedback AUTO_INCREMENT = 10000;')"
   ]
  },
  {
   "cell_type": "markdown",
   "id": "5945d149",
   "metadata": {},
   "source": [
    "`distributor`"
   ]
  },
  {
   "cell_type": "code",
   "execution_count": 10,
   "id": "5b51c192",
   "metadata": {
    "scrolled": true
   },
   "outputs": [],
   "source": [
    "sql = ( \"\"\"\n",
    "        CREATE TABLE distributor\n",
    "        (\n",
    "          distributor_id INT NOT NULL,\n",
    "          distributor_name CHAR(30) NOT NULL,\n",
    "          distributor_email VARCHAR(40) NOT NULL,\n",
    "          region CHAR(10) NOT NULL,\n",
    "          CONSTRAINT distributor_pk PRIMARY KEY (distributor_id)\n",
    "        );\n",
    "        \"\"\"\n",
    "      )\n",
    "\n",
    "make_table('distributor', sql, cursor_db)"
   ]
  },
  {
   "cell_type": "markdown",
   "id": "b1bf73a0",
   "metadata": {},
   "source": [
    "`website`"
   ]
  },
  {
   "cell_type": "code",
   "execution_count": 11,
   "id": "83712b0e",
   "metadata": {
    "scrolled": true
   },
   "outputs": [],
   "source": [
    "sql = ( \"\"\"\n",
    "        CREATE TABLE website\n",
    "        (\n",
    "          website_name CHAR(20) NOT NULL,\n",
    "          listing_fee FLOAT NOT NULL,\n",
    "          CONSTRAINT website_pk PRIMARY KEY (website_name)\n",
    "        );\n",
    "        \"\"\"\n",
    "      )\n",
    "\n",
    "make_table('website', sql, cursor_db)"
   ]
  },
  {
   "cell_type": "markdown",
   "id": "a033f0fe",
   "metadata": {},
   "source": [
    "`product`"
   ]
  },
  {
   "cell_type": "code",
   "execution_count": 12,
   "id": "e9fea3f9",
   "metadata": {},
   "outputs": [],
   "source": [
    "sql = ( \"\"\"\n",
    "        CREATE TABLE product\n",
    "        (\n",
    "          product_id VARCHAR(15) NOT NULL,\n",
    "          product_name VARCHAR(255) NOT NULL,\n",
    "          base_price FLOAT NOT NULL,\n",
    "          quantity_available INT NOT NULL,\n",
    "          category_id CHAR(3) NOT NULL,\n",
    "          distributor_id INT NOT NULL,\n",
    "          CONSTRAINT product_pk PRIMARY KEY (product_id),\n",
    "          CONSTRAINT product_fk1 FOREIGN KEY (distributor_id) REFERENCES distributor(distributor_id),\n",
    "          CONSTRAINT product_fk2 FOREIGN KEY (category_id) REFERENCES category(category_id)\n",
    "        );\n",
    "        \"\"\"\n",
    "      )\n",
    "\n",
    "make_table('product', sql, cursor_db)"
   ]
  },
  {
   "cell_type": "markdown",
   "id": "f9519afa",
   "metadata": {},
   "source": [
    "`shopping_cart`"
   ]
  },
  {
   "cell_type": "code",
   "execution_count": 13,
   "id": "ecc19138",
   "metadata": {},
   "outputs": [],
   "source": [
    "sql = ( \"\"\"\n",
    "        CREATE TABLE shopping_cart\n",
    "        (\n",
    "          product_id VARCHAR(15) NOT NULL,\n",
    "          order_id INT NOT NULL,\n",
    "          quantity_ordered INT NOT NULL,\n",
    "          website_name CHAR(20) NOT NULL,\n",
    "          CONSTRAINT shopping_cart_pk PRIMARY KEY (product_id, order_id, website_name),\n",
    "          CONSTRAINT shopping_cart_fk1 FOREIGN KEY (product_id) REFERENCES product(product_id),\n",
    "          CONSTRAINT shopping_cart_fk2 FOREIGN KEY (order_id) REFERENCES orders(order_id),\n",
    "          CONSTRAINT shopping_cart_fk3 FOREIGN KEY (website_name) REFERENCES website(website_name)\n",
    "        );\n",
    "        \"\"\"\n",
    "      )\n",
    "\n",
    "make_table('shopping_cart', sql, cursor_db)"
   ]
  },
  {
   "cell_type": "markdown",
   "id": "e8bbbad0",
   "metadata": {},
   "source": [
    "`listed`"
   ]
  },
  {
   "cell_type": "code",
   "execution_count": 14,
   "id": "064e0c28",
   "metadata": {},
   "outputs": [],
   "source": [
    "sql = ( \"\"\"\n",
    "        CREATE TABLE listed\n",
    "        (\n",
    "          product_id VARCHAR(15) NOT NULL,\n",
    "          website_name CHAR(20) NOT NULL,\n",
    "          price FLOAT NOT NULL,\n",
    "          CONSTRAINT listed_pk PRIMARY KEY (product_id, website_name),\n",
    "          CONSTRAINT listed_fk1 FOREIGN KEY (product_id) REFERENCES product(product_id),\n",
    "          CONSTRAINT listed_fk2 FOREIGN KEY (website_name) REFERENCES website(website_name)\n",
    "        );\n",
    "        \"\"\"\n",
    "      )\n",
    "\n",
    "make_table('listed', sql, cursor_db)"
   ]
  },
  {
   "cell_type": "markdown",
   "id": "e879a56e",
   "metadata": {},
   "source": [
    "### Insert into tables"
   ]
  },
  {
   "cell_type": "code",
   "execution_count": 15,
   "id": "298afcd4",
   "metadata": {},
   "outputs": [],
   "source": [
    "sql_sm = (   \"\"\"\n",
    "            INSERT INTO ship_mode\n",
    "            VALUES (%s, %s, %s)\n",
    "            \"\"\"\n",
    "        )\n",
    "\n",
    "sql_cu = (   \"\"\"\n",
    "            INSERT INTO customer ( customer_first_name, customer_last_name, street_address, city, state, country, \n",
    "            postal_code, segment)\n",
    "            VALUES (%s, %s, %s, %s, %s, %s, %s, %s)\n",
    "            \"\"\"\n",
    "         )\n",
    "        \n",
    "sql_o = (   \"\"\"\n",
    "            INSERT INTO orders (order_date, discount, ship_mode, ship_date, customer_id)\n",
    "            VALUES (%s, %s, %s, %s, %s)\n",
    "            \"\"\"\n",
    "         )\n",
    "\n",
    "sql_ca = (   \"\"\"\n",
    "            INSERT INTO category\n",
    "            VALUES (%s, %s)\n",
    "            \"\"\"\n",
    "         )\n",
    "\n",
    "sql_f = (   \"\"\"\n",
    "            INSERT INTO feedback (customer_rating, customer_id)\n",
    "            VALUES (%s, %s)\n",
    "            \"\"\"\n",
    "         )\n",
    "\n",
    "sql_d = (   \"\"\"\n",
    "            INSERT INTO distributor\n",
    "            VALUES (%s, %s, %s, %s)\n",
    "            \"\"\"\n",
    "         )\n",
    "\n",
    "sql_w = (   \"\"\"\n",
    "            INSERT INTO website\n",
    "            VALUES (%s, %s)\n",
    "            \"\"\"\n",
    "         )\n",
    "\n",
    "sql_p = (   \"\"\"\n",
    "            INSERT INTO product\n",
    "            VALUES (%s, %s, %s, %s, %s, %s)\n",
    "            \"\"\"\n",
    "         )\n",
    "\n",
    "sql_sc = (   \"\"\"\n",
    "            INSERT INTO shopping_cart\n",
    "            VALUES (%s, %s, %s, %s)\n",
    "            \"\"\"\n",
    "         )\n",
    "\n",
    "sql_l = (   \"\"\"\n",
    "            INSERT INTO listed\n",
    "            VALUES (%s, %s, %s)\n",
    "            \"\"\"\n",
    "         )"
   ]
  },
  {
   "cell_type": "markdown",
   "id": "6141b47d",
   "metadata": {},
   "source": [
    "### Extracting the data from the CSV file and loading the data into a dataframe"
   ]
  },
  {
   "cell_type": "code",
   "execution_count": 16,
   "id": "fa0fd40a",
   "metadata": {
    "scrolled": true
   },
   "outputs": [],
   "source": [
    "def read_insert_direct(path, query, table):\n",
    "    first = True\n",
    "    with open(path, newline='') as csv_file:\n",
    "        data = csv.reader(csv_file, delimiter=',', quotechar='\"')\n",
    "\n",
    "        for row in data:\n",
    "            if not first:     \n",
    "                cursor_db.execute(query, row)\n",
    "            first = False\n",
    "    conn_db.commit()\n",
    "\n",
    "    display_table(table, conn_db, rows = 1)"
   ]
  },
  {
   "cell_type": "markdown",
   "id": "c1d6d830",
   "metadata": {},
   "source": [
    "`ship_mode`"
   ]
  },
  {
   "cell_type": "code",
   "execution_count": 17,
   "id": "74459b63",
   "metadata": {},
   "outputs": [],
   "source": [
    "read_insert_direct('Dataset/shipmode.csv', sql_sm, 'ship_mode')"
   ]
  },
  {
   "cell_type": "markdown",
   "id": "d7c984b0",
   "metadata": {},
   "source": [
    "`customer`"
   ]
  },
  {
   "cell_type": "code",
   "execution_count": 18,
   "id": "e1cc26ad",
   "metadata": {},
   "outputs": [],
   "source": [
    "read_insert_direct('Dataset/customer.csv', sql_cu, 'customer')"
   ]
  },
  {
   "cell_type": "markdown",
   "id": "556001de",
   "metadata": {},
   "source": [
    "`orders`"
   ]
  },
  {
   "cell_type": "code",
   "execution_count": 19,
   "id": "200dc6d7",
   "metadata": {},
   "outputs": [],
   "source": [
    "def transform(date):\n",
    "    month, day, year = date.split('/')\n",
    "    if len(month) == 1:\n",
    "        month = '0' + month\n",
    "    if len(day) == 1:\n",
    "        day = '0' + day\n",
    "    if len(year) == 2:\n",
    "        year = '20' + year\n",
    "    return year + '-' + month + '-' + day"
   ]
  },
  {
   "cell_type": "code",
   "execution_count": 20,
   "id": "7221f2d6",
   "metadata": {},
   "outputs": [],
   "source": [
    "def read_insert_orders(path, query, table):\n",
    "    first = True\n",
    "    with open(path, newline='') as csv_file:\n",
    "        data = csv.reader(csv_file, delimiter=',', quotechar='\"')\n",
    "\n",
    "        for row in data:\n",
    "            if not first: \n",
    "                row[0] = transform(row[0])\n",
    "                row[3] = transform(row[3])\n",
    "                cursor_db.execute(query, row)\n",
    "            first = False\n",
    "        conn_db.commit()\n",
    "\n",
    "        display_table(table, conn_db, rows = 1)"
   ]
  },
  {
   "cell_type": "code",
   "execution_count": 21,
   "id": "99579477",
   "metadata": {},
   "outputs": [],
   "source": [
    "read_insert_orders('Dataset/orders.csv', sql_o, 'orders')"
   ]
  },
  {
   "cell_type": "markdown",
   "id": "6d040e7e",
   "metadata": {},
   "source": [
    "`category`"
   ]
  },
  {
   "cell_type": "code",
   "execution_count": 22,
   "id": "b4e6a7cc",
   "metadata": {},
   "outputs": [],
   "source": [
    "read_insert_direct('Dataset/category.csv', sql_ca, 'category')"
   ]
  },
  {
   "cell_type": "markdown",
   "id": "bc6a684b",
   "metadata": {},
   "source": [
    "`feedback`"
   ]
  },
  {
   "cell_type": "code",
   "execution_count": 23,
   "id": "aa585d3e",
   "metadata": {},
   "outputs": [],
   "source": [
    "read_insert_direct('Dataset/feedback.csv', sql_f, 'feedback')"
   ]
  },
  {
   "cell_type": "markdown",
   "id": "0b3f5013",
   "metadata": {},
   "source": [
    "`distributor`"
   ]
  },
  {
   "cell_type": "code",
   "execution_count": 24,
   "id": "56bcd17a",
   "metadata": {},
   "outputs": [],
   "source": [
    "read_insert_direct('Dataset/distributor.csv', sql_d, 'distributor')"
   ]
  },
  {
   "cell_type": "markdown",
   "id": "a70ab922",
   "metadata": {},
   "source": [
    "`website`"
   ]
  },
  {
   "cell_type": "code",
   "execution_count": 25,
   "id": "af654e16",
   "metadata": {},
   "outputs": [],
   "source": [
    "read_insert_direct('Dataset/website.csv', sql_w, 'website')"
   ]
  },
  {
   "cell_type": "markdown",
   "id": "04acc9a5",
   "metadata": {},
   "source": [
    "`product`"
   ]
  },
  {
   "cell_type": "code",
   "execution_count": 26,
   "id": "52fb9610",
   "metadata": {},
   "outputs": [],
   "source": [
    "read_insert_direct('Dataset/product.csv', sql_p, 'product')"
   ]
  },
  {
   "cell_type": "markdown",
   "id": "fa34d78e",
   "metadata": {},
   "source": [
    "`shopping_cart`"
   ]
  },
  {
   "cell_type": "code",
   "execution_count": 27,
   "id": "91be9bed",
   "metadata": {
    "scrolled": true
   },
   "outputs": [],
   "source": [
    "read_insert_direct('Dataset/shopping_cart.csv', sql_sc, 'shopping_cart')"
   ]
  },
  {
   "cell_type": "markdown",
   "id": "fd778a0c",
   "metadata": {},
   "source": [
    "`listed`"
   ]
  },
  {
   "cell_type": "code",
   "execution_count": 28,
   "id": "e63bbee5",
   "metadata": {},
   "outputs": [],
   "source": [
    "def read_insert_listed(path, query, table):\n",
    "    first = True\n",
    "    with open(path, newline='') as csv_file:\n",
    "        data = csv.reader(csv_file, delimiter=',', quotechar='\"')\n",
    "\n",
    "        for row in data:\n",
    "            if not first: \n",
    "                pid = row[0]\n",
    "                webn = row[1]\n",
    "                sql = (f\"SELECT base_price FROM product WHERE product_id = '{pid}'\")\n",
    "                cursor_db.execute(sql)\n",
    "                out = cursor_db.fetchall()\n",
    "                base_price = out[0][0]\n",
    "                sql = (f\"SELECT listing_fee FROM website WHERE website_name = '{webn}'\")\n",
    "                cursor_db.execute(sql)\n",
    "                out = cursor_db.fetchall()\n",
    "                listf = out[0][0]\n",
    "                price = base_price + listf\n",
    "                cursor_db.execute(query, [row[0], row[1], price])\n",
    "            first = False\n",
    "    conn_db.commit()\n",
    "\n",
    "    display_table(table, conn_db, rows = 1)"
   ]
  },
  {
   "cell_type": "code",
   "execution_count": 29,
   "id": "d5ac3759",
   "metadata": {},
   "outputs": [],
   "source": [
    "read_insert_listed('Dataset/listed.csv', sql_l, 'listed')"
   ]
  },
  {
   "cell_type": "markdown",
   "id": "1f844481",
   "metadata": {},
   "source": [
    "### Update order_total in orders table"
   ]
  },
  {
   "cell_type": "code",
   "execution_count": 30,
   "id": "19358f35",
   "metadata": {
    "scrolled": true
   },
   "outputs": [],
   "source": [
    "sql = (\"\"\"\n",
    "        SELECT o.order_id, SUM(((price * quantity_ordered) + shipping_fee - discount)) AS order_total_temp\n",
    "        FROM orders o JOIN shopping_cart sc ON o.order_id = sc.order_id JOIN product p ON sc.product_id = p.product_id \n",
    "        JOIN listed l ON sc.product_id = l.product_id, ship_mode sm\n",
    "        WHERE sc.website_name = l.website_name \n",
    "        AND o.ship_mode = sm.ship_mode\n",
    "        GROUP BY o.order_id\n",
    "        \"\"\"\n",
    "      )\n",
    "\n",
    "_, df = dataframe_query(conn_db, sql)"
   ]
  },
  {
   "cell_type": "code",
   "execution_count": 31,
   "id": "f6dcd557",
   "metadata": {
    "scrolled": true
   },
   "outputs": [],
   "source": [
    "for i in df.iterrows():\n",
    "    order_id = i[1][0]\n",
    "    order_total = i[1][1]\n",
    "    sql = (f\"UPDATE orders SET order_total = '{order_total}' WHERE order_id = '{order_id}'\")\n",
    "    cursor_db.execute(sql)\n",
    "    conn_db.commit()"
   ]
  },
  {
   "cell_type": "markdown",
   "id": "bad3db8f",
   "metadata": {},
   "source": [
    "### Create temp_cart table"
   ]
  },
  {
   "cell_type": "code",
   "execution_count": 32,
   "id": "ede62f2d",
   "metadata": {},
   "outputs": [],
   "source": [
    "sql = ( \"\"\"\n",
    "        CREATE TABLE temp_cart\n",
    "        (\n",
    "          product_id VARCHAR(15) NOT NULL,\n",
    "          product_name VARCHAR(255) NOT NULL,\n",
    "          category CHAR(20) NOT NULL,\n",
    "          price FLOAT NOT NULL,\n",
    "          website_name CHAR(20) NOT NULL, \n",
    "          quantity_ordered INT NOT NULL\n",
    "        );\n",
    "        \"\"\"\n",
    "      )\n",
    "\n",
    "make_table('temp_cart', sql, cursor_db)          "
   ]
  },
  {
   "cell_type": "markdown",
   "id": "50357f89",
   "metadata": {},
   "source": [
    "### Closing the cursor"
   ]
  },
  {
   "cell_type": "code",
   "execution_count": 33,
   "id": "45b4abd9",
   "metadata": {
    "scrolled": true
   },
   "outputs": [],
   "source": [
    "cursor_db.close()\n",
    "conn_db.close()"
   ]
  },
  {
   "cell_type": "code",
   "execution_count": null,
   "id": "61424c24",
   "metadata": {},
   "outputs": [],
   "source": []
  }
 ],
 "metadata": {
  "kernelspec": {
   "display_name": "Python 3 (ipykernel)",
   "language": "python",
   "name": "python3"
  },
  "language_info": {
   "codemirror_mode": {
    "name": "ipython",
    "version": 3
   },
   "file_extension": ".py",
   "mimetype": "text/x-python",
   "name": "python",
   "nbconvert_exporter": "python",
   "pygments_lexer": "ipython3",
   "version": "3.9.13"
  }
 },
 "nbformat": 4,
 "nbformat_minor": 5
}
